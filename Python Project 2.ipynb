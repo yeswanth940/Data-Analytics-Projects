{
 "cells": [
  {
   "cell_type": "code",
   "execution_count": 1,
   "id": "9a9e9dce",
   "metadata": {},
   "outputs": [],
   "source": [
    "import pandas"
   ]
  },
  {
   "cell_type": "code",
   "execution_count": 2,
   "id": "c386e71d",
   "metadata": {},
   "outputs": [],
   "source": [
    "import pandas as pd"
   ]
  },
  {
   "cell_type": "markdown",
   "id": "ecb54b0b",
   "metadata": {},
   "source": [
    "# 1. Add the column names to both datasets:"
   ]
  },
  {
   "cell_type": "markdown",
   "id": "48556b1a",
   "metadata": {},
   "source": [
    "## i. Customer_details dataset"
   ]
  },
  {
   "cell_type": "code",
   "execution_count": 3,
   "id": "4022cfce",
   "metadata": {},
   "outputs": [],
   "source": [
    "cd = pd.read_csv('C:/Users/yeswanth sai kumar/OneDrive/Desktop/Python_project2/customer_details.csv')"
   ]
  },
  {
   "cell_type": "code",
   "execution_count": 4,
   "id": "91b3c599",
   "metadata": {},
   "outputs": [
    {
     "data": {
      "text/html": [
       "<div>\n",
       "<style scoped>\n",
       "    .dataframe tbody tr th:only-of-type {\n",
       "        vertical-align: middle;\n",
       "    }\n",
       "\n",
       "    .dataframe tbody tr th {\n",
       "        vertical-align: top;\n",
       "    }\n",
       "\n",
       "    .dataframe thead th {\n",
       "        text-align: right;\n",
       "    }\n",
       "</style>\n",
       "<table border=\"1\" class=\"dataframe\">\n",
       "  <thead>\n",
       "    <tr style=\"text-align: right;\">\n",
       "      <th></th>\n",
       "      <th>0</th>\n",
       "      <th>1</th>\n",
       "      <th>2</th>\n",
       "      <th>3</th>\n",
       "      <th>4</th>\n",
       "      <th>5</th>\n",
       "      <th>6</th>\n",
       "      <th>7</th>\n",
       "    </tr>\n",
       "  </thead>\n",
       "  <tbody>\n",
       "    <tr>\n",
       "      <th>0</th>\n",
       "      <td>1.0</td>\n",
       "      <td>Male</td>\n",
       "      <td>44.0</td>\n",
       "      <td>1.0</td>\n",
       "      <td>28.0</td>\n",
       "      <td>0.0</td>\n",
       "      <td>&gt; 2 Years</td>\n",
       "      <td>Yes</td>\n",
       "    </tr>\n",
       "    <tr>\n",
       "      <th>1</th>\n",
       "      <td>2.0</td>\n",
       "      <td>Male</td>\n",
       "      <td>76.0</td>\n",
       "      <td>1.0</td>\n",
       "      <td>3.0</td>\n",
       "      <td>0.0</td>\n",
       "      <td>1-2 Year</td>\n",
       "      <td>No</td>\n",
       "    </tr>\n",
       "    <tr>\n",
       "      <th>2</th>\n",
       "      <td>3.0</td>\n",
       "      <td>Male</td>\n",
       "      <td>47.0</td>\n",
       "      <td>1.0</td>\n",
       "      <td>28.0</td>\n",
       "      <td>0.0</td>\n",
       "      <td>&gt; 2 Years</td>\n",
       "      <td>Yes</td>\n",
       "    </tr>\n",
       "    <tr>\n",
       "      <th>3</th>\n",
       "      <td>4.0</td>\n",
       "      <td>Male</td>\n",
       "      <td>21.0</td>\n",
       "      <td>1.0</td>\n",
       "      <td>11.0</td>\n",
       "      <td>1.0</td>\n",
       "      <td>&lt; 1 Year</td>\n",
       "      <td>No</td>\n",
       "    </tr>\n",
       "    <tr>\n",
       "      <th>4</th>\n",
       "      <td>5.0</td>\n",
       "      <td>Female</td>\n",
       "      <td>29.0</td>\n",
       "      <td>1.0</td>\n",
       "      <td>41.0</td>\n",
       "      <td>1.0</td>\n",
       "      <td>&lt; 1 Year</td>\n",
       "      <td>No</td>\n",
       "    </tr>\n",
       "    <tr>\n",
       "      <th>...</th>\n",
       "      <td>...</td>\n",
       "      <td>...</td>\n",
       "      <td>...</td>\n",
       "      <td>...</td>\n",
       "      <td>...</td>\n",
       "      <td>...</td>\n",
       "      <td>...</td>\n",
       "      <td>...</td>\n",
       "    </tr>\n",
       "    <tr>\n",
       "      <th>381104</th>\n",
       "      <td>381105.0</td>\n",
       "      <td>Male</td>\n",
       "      <td>74.0</td>\n",
       "      <td>1.0</td>\n",
       "      <td>26.0</td>\n",
       "      <td>1.0</td>\n",
       "      <td>1-2 Year</td>\n",
       "      <td>No</td>\n",
       "    </tr>\n",
       "    <tr>\n",
       "      <th>381105</th>\n",
       "      <td>381106.0</td>\n",
       "      <td>Male</td>\n",
       "      <td>30.0</td>\n",
       "      <td>1.0</td>\n",
       "      <td>37.0</td>\n",
       "      <td>1.0</td>\n",
       "      <td>&lt; 1 Year</td>\n",
       "      <td>No</td>\n",
       "    </tr>\n",
       "    <tr>\n",
       "      <th>381106</th>\n",
       "      <td>381107.0</td>\n",
       "      <td>Male</td>\n",
       "      <td>21.0</td>\n",
       "      <td>1.0</td>\n",
       "      <td>30.0</td>\n",
       "      <td>1.0</td>\n",
       "      <td>&lt; 1 Year</td>\n",
       "      <td>No</td>\n",
       "    </tr>\n",
       "    <tr>\n",
       "      <th>381107</th>\n",
       "      <td>381108.0</td>\n",
       "      <td>Female</td>\n",
       "      <td>68.0</td>\n",
       "      <td>1.0</td>\n",
       "      <td>14.0</td>\n",
       "      <td>0.0</td>\n",
       "      <td>&gt; 2 Years</td>\n",
       "      <td>Yes</td>\n",
       "    </tr>\n",
       "    <tr>\n",
       "      <th>381108</th>\n",
       "      <td>381109.0</td>\n",
       "      <td>Male</td>\n",
       "      <td>46.0</td>\n",
       "      <td>1.0</td>\n",
       "      <td>29.0</td>\n",
       "      <td>0.0</td>\n",
       "      <td>1-2 Year</td>\n",
       "      <td>No</td>\n",
       "    </tr>\n",
       "  </tbody>\n",
       "</table>\n",
       "<p>381109 rows × 8 columns</p>\n",
       "</div>"
      ],
      "text/plain": [
       "               0       1     2    3     4    5          6    7\n",
       "0            1.0    Male  44.0  1.0  28.0  0.0  > 2 Years  Yes\n",
       "1            2.0    Male  76.0  1.0   3.0  0.0   1-2 Year   No\n",
       "2            3.0    Male  47.0  1.0  28.0  0.0  > 2 Years  Yes\n",
       "3            4.0    Male  21.0  1.0  11.0  1.0   < 1 Year   No\n",
       "4            5.0  Female  29.0  1.0  41.0  1.0   < 1 Year   No\n",
       "...          ...     ...   ...  ...   ...  ...        ...  ...\n",
       "381104  381105.0    Male  74.0  1.0  26.0  1.0   1-2 Year   No\n",
       "381105  381106.0    Male  30.0  1.0  37.0  1.0   < 1 Year   No\n",
       "381106  381107.0    Male  21.0  1.0  30.0  1.0   < 1 Year   No\n",
       "381107  381108.0  Female  68.0  1.0  14.0  0.0  > 2 Years  Yes\n",
       "381108  381109.0    Male  46.0  1.0  29.0  0.0   1-2 Year   No\n",
       "\n",
       "[381109 rows x 8 columns]"
      ]
     },
     "execution_count": 4,
     "metadata": {},
     "output_type": "execute_result"
    }
   ],
   "source": [
    "cd"
   ]
  },
  {
   "cell_type": "code",
   "execution_count": 5,
   "id": "08f04007",
   "metadata": {},
   "outputs": [],
   "source": [
    "cd.columns = [ 'customer_id', \n",
    "\n",
    "           'Gender',\n",
    "\n",
    "           'age', \n",
    "\n",
    "           'driving licence present',\n",
    "\n",
    "           'region code', \n",
    "\n",
    "           'previously insured', \n",
    "\n",
    "           'vehicle age', \n",
    "\n",
    "            'vehicle damage']"
   ]
  },
  {
   "cell_type": "code",
   "execution_count": 6,
   "id": "d262aa57",
   "metadata": {},
   "outputs": [
    {
     "data": {
      "text/html": [
       "<div>\n",
       "<style scoped>\n",
       "    .dataframe tbody tr th:only-of-type {\n",
       "        vertical-align: middle;\n",
       "    }\n",
       "\n",
       "    .dataframe tbody tr th {\n",
       "        vertical-align: top;\n",
       "    }\n",
       "\n",
       "    .dataframe thead th {\n",
       "        text-align: right;\n",
       "    }\n",
       "</style>\n",
       "<table border=\"1\" class=\"dataframe\">\n",
       "  <thead>\n",
       "    <tr style=\"text-align: right;\">\n",
       "      <th></th>\n",
       "      <th>customer_id</th>\n",
       "      <th>Gender</th>\n",
       "      <th>age</th>\n",
       "      <th>driving licence present</th>\n",
       "      <th>region code</th>\n",
       "      <th>previously insured</th>\n",
       "      <th>vehicle age</th>\n",
       "      <th>vehicle damage</th>\n",
       "    </tr>\n",
       "  </thead>\n",
       "  <tbody>\n",
       "    <tr>\n",
       "      <th>0</th>\n",
       "      <td>1.0</td>\n",
       "      <td>Male</td>\n",
       "      <td>44.0</td>\n",
       "      <td>1.0</td>\n",
       "      <td>28.0</td>\n",
       "      <td>0.0</td>\n",
       "      <td>&gt; 2 Years</td>\n",
       "      <td>Yes</td>\n",
       "    </tr>\n",
       "    <tr>\n",
       "      <th>1</th>\n",
       "      <td>2.0</td>\n",
       "      <td>Male</td>\n",
       "      <td>76.0</td>\n",
       "      <td>1.0</td>\n",
       "      <td>3.0</td>\n",
       "      <td>0.0</td>\n",
       "      <td>1-2 Year</td>\n",
       "      <td>No</td>\n",
       "    </tr>\n",
       "    <tr>\n",
       "      <th>2</th>\n",
       "      <td>3.0</td>\n",
       "      <td>Male</td>\n",
       "      <td>47.0</td>\n",
       "      <td>1.0</td>\n",
       "      <td>28.0</td>\n",
       "      <td>0.0</td>\n",
       "      <td>&gt; 2 Years</td>\n",
       "      <td>Yes</td>\n",
       "    </tr>\n",
       "    <tr>\n",
       "      <th>3</th>\n",
       "      <td>4.0</td>\n",
       "      <td>Male</td>\n",
       "      <td>21.0</td>\n",
       "      <td>1.0</td>\n",
       "      <td>11.0</td>\n",
       "      <td>1.0</td>\n",
       "      <td>&lt; 1 Year</td>\n",
       "      <td>No</td>\n",
       "    </tr>\n",
       "    <tr>\n",
       "      <th>4</th>\n",
       "      <td>5.0</td>\n",
       "      <td>Female</td>\n",
       "      <td>29.0</td>\n",
       "      <td>1.0</td>\n",
       "      <td>41.0</td>\n",
       "      <td>1.0</td>\n",
       "      <td>&lt; 1 Year</td>\n",
       "      <td>No</td>\n",
       "    </tr>\n",
       "    <tr>\n",
       "      <th>...</th>\n",
       "      <td>...</td>\n",
       "      <td>...</td>\n",
       "      <td>...</td>\n",
       "      <td>...</td>\n",
       "      <td>...</td>\n",
       "      <td>...</td>\n",
       "      <td>...</td>\n",
       "      <td>...</td>\n",
       "    </tr>\n",
       "    <tr>\n",
       "      <th>381104</th>\n",
       "      <td>381105.0</td>\n",
       "      <td>Male</td>\n",
       "      <td>74.0</td>\n",
       "      <td>1.0</td>\n",
       "      <td>26.0</td>\n",
       "      <td>1.0</td>\n",
       "      <td>1-2 Year</td>\n",
       "      <td>No</td>\n",
       "    </tr>\n",
       "    <tr>\n",
       "      <th>381105</th>\n",
       "      <td>381106.0</td>\n",
       "      <td>Male</td>\n",
       "      <td>30.0</td>\n",
       "      <td>1.0</td>\n",
       "      <td>37.0</td>\n",
       "      <td>1.0</td>\n",
       "      <td>&lt; 1 Year</td>\n",
       "      <td>No</td>\n",
       "    </tr>\n",
       "    <tr>\n",
       "      <th>381106</th>\n",
       "      <td>381107.0</td>\n",
       "      <td>Male</td>\n",
       "      <td>21.0</td>\n",
       "      <td>1.0</td>\n",
       "      <td>30.0</td>\n",
       "      <td>1.0</td>\n",
       "      <td>&lt; 1 Year</td>\n",
       "      <td>No</td>\n",
       "    </tr>\n",
       "    <tr>\n",
       "      <th>381107</th>\n",
       "      <td>381108.0</td>\n",
       "      <td>Female</td>\n",
       "      <td>68.0</td>\n",
       "      <td>1.0</td>\n",
       "      <td>14.0</td>\n",
       "      <td>0.0</td>\n",
       "      <td>&gt; 2 Years</td>\n",
       "      <td>Yes</td>\n",
       "    </tr>\n",
       "    <tr>\n",
       "      <th>381108</th>\n",
       "      <td>381109.0</td>\n",
       "      <td>Male</td>\n",
       "      <td>46.0</td>\n",
       "      <td>1.0</td>\n",
       "      <td>29.0</td>\n",
       "      <td>0.0</td>\n",
       "      <td>1-2 Year</td>\n",
       "      <td>No</td>\n",
       "    </tr>\n",
       "  </tbody>\n",
       "</table>\n",
       "<p>381109 rows × 8 columns</p>\n",
       "</div>"
      ],
      "text/plain": [
       "        customer_id  Gender   age  driving licence present  region code  \\\n",
       "0               1.0    Male  44.0                      1.0         28.0   \n",
       "1               2.0    Male  76.0                      1.0          3.0   \n",
       "2               3.0    Male  47.0                      1.0         28.0   \n",
       "3               4.0    Male  21.0                      1.0         11.0   \n",
       "4               5.0  Female  29.0                      1.0         41.0   \n",
       "...             ...     ...   ...                      ...          ...   \n",
       "381104     381105.0    Male  74.0                      1.0         26.0   \n",
       "381105     381106.0    Male  30.0                      1.0         37.0   \n",
       "381106     381107.0    Male  21.0                      1.0         30.0   \n",
       "381107     381108.0  Female  68.0                      1.0         14.0   \n",
       "381108     381109.0    Male  46.0                      1.0         29.0   \n",
       "\n",
       "        previously insured vehicle age vehicle damage  \n",
       "0                      0.0   > 2 Years            Yes  \n",
       "1                      0.0    1-2 Year             No  \n",
       "2                      0.0   > 2 Years            Yes  \n",
       "3                      1.0    < 1 Year             No  \n",
       "4                      1.0    < 1 Year             No  \n",
       "...                    ...         ...            ...  \n",
       "381104                 1.0    1-2 Year             No  \n",
       "381105                 1.0    < 1 Year             No  \n",
       "381106                 1.0    < 1 Year             No  \n",
       "381107                 0.0   > 2 Years            Yes  \n",
       "381108                 0.0    1-2 Year             No  \n",
       "\n",
       "[381109 rows x 8 columns]"
      ]
     },
     "execution_count": 6,
     "metadata": {},
     "output_type": "execute_result"
    }
   ],
   "source": [
    "cd"
   ]
  },
  {
   "cell_type": "markdown",
   "id": "88c3ad02",
   "metadata": {},
   "source": [
    "## ii. Customer_policy_details dataset"
   ]
  },
  {
   "cell_type": "code",
   "execution_count": 7,
   "id": "6f5c31fd",
   "metadata": {},
   "outputs": [],
   "source": [
    "cp_d = pd.read_csv('C:/Users/yeswanth sai kumar/OneDrive/Desktop/Python_project2/customer_policy_details.csv')"
   ]
  },
  {
   "cell_type": "code",
   "execution_count": 8,
   "id": "25006a39",
   "metadata": {},
   "outputs": [
    {
     "data": {
      "text/html": [
       "<div>\n",
       "<style scoped>\n",
       "    .dataframe tbody tr th:only-of-type {\n",
       "        vertical-align: middle;\n",
       "    }\n",
       "\n",
       "    .dataframe tbody tr th {\n",
       "        vertical-align: top;\n",
       "    }\n",
       "\n",
       "    .dataframe thead th {\n",
       "        text-align: right;\n",
       "    }\n",
       "</style>\n",
       "<table border=\"1\" class=\"dataframe\">\n",
       "  <thead>\n",
       "    <tr style=\"text-align: right;\">\n",
       "      <th></th>\n",
       "      <th>0</th>\n",
       "      <th>1</th>\n",
       "      <th>2</th>\n",
       "      <th>3</th>\n",
       "      <th>4</th>\n",
       "    </tr>\n",
       "  </thead>\n",
       "  <tbody>\n",
       "    <tr>\n",
       "      <th>0</th>\n",
       "      <td>1.0</td>\n",
       "      <td>40454.0</td>\n",
       "      <td>26.0</td>\n",
       "      <td>217.0</td>\n",
       "      <td>1.0</td>\n",
       "    </tr>\n",
       "    <tr>\n",
       "      <th>1</th>\n",
       "      <td>2.0</td>\n",
       "      <td>33536.0</td>\n",
       "      <td>26.0</td>\n",
       "      <td>183.0</td>\n",
       "      <td>0.0</td>\n",
       "    </tr>\n",
       "    <tr>\n",
       "      <th>2</th>\n",
       "      <td>3.0</td>\n",
       "      <td>38294.0</td>\n",
       "      <td>26.0</td>\n",
       "      <td>27.0</td>\n",
       "      <td>1.0</td>\n",
       "    </tr>\n",
       "    <tr>\n",
       "      <th>3</th>\n",
       "      <td>4.0</td>\n",
       "      <td>28619.0</td>\n",
       "      <td>152.0</td>\n",
       "      <td>203.0</td>\n",
       "      <td>0.0</td>\n",
       "    </tr>\n",
       "    <tr>\n",
       "      <th>4</th>\n",
       "      <td>5.0</td>\n",
       "      <td>27496.0</td>\n",
       "      <td>152.0</td>\n",
       "      <td>39.0</td>\n",
       "      <td>0.0</td>\n",
       "    </tr>\n",
       "    <tr>\n",
       "      <th>...</th>\n",
       "      <td>...</td>\n",
       "      <td>...</td>\n",
       "      <td>...</td>\n",
       "      <td>...</td>\n",
       "      <td>...</td>\n",
       "    </tr>\n",
       "    <tr>\n",
       "      <th>381104</th>\n",
       "      <td>381105.0</td>\n",
       "      <td>30170.0</td>\n",
       "      <td>26.0</td>\n",
       "      <td>88.0</td>\n",
       "      <td>0.0</td>\n",
       "    </tr>\n",
       "    <tr>\n",
       "      <th>381105</th>\n",
       "      <td>381106.0</td>\n",
       "      <td>40016.0</td>\n",
       "      <td>152.0</td>\n",
       "      <td>131.0</td>\n",
       "      <td>0.0</td>\n",
       "    </tr>\n",
       "    <tr>\n",
       "      <th>381106</th>\n",
       "      <td>381107.0</td>\n",
       "      <td>35118.0</td>\n",
       "      <td>160.0</td>\n",
       "      <td>161.0</td>\n",
       "      <td>0.0</td>\n",
       "    </tr>\n",
       "    <tr>\n",
       "      <th>381107</th>\n",
       "      <td>381108.0</td>\n",
       "      <td>44617.0</td>\n",
       "      <td>124.0</td>\n",
       "      <td>74.0</td>\n",
       "      <td>0.0</td>\n",
       "    </tr>\n",
       "    <tr>\n",
       "      <th>381108</th>\n",
       "      <td>381109.0</td>\n",
       "      <td>41777.0</td>\n",
       "      <td>26.0</td>\n",
       "      <td>237.0</td>\n",
       "      <td>0.0</td>\n",
       "    </tr>\n",
       "  </tbody>\n",
       "</table>\n",
       "<p>381109 rows × 5 columns</p>\n",
       "</div>"
      ],
      "text/plain": [
       "               0        1      2      3    4\n",
       "0            1.0  40454.0   26.0  217.0  1.0\n",
       "1            2.0  33536.0   26.0  183.0  0.0\n",
       "2            3.0  38294.0   26.0   27.0  1.0\n",
       "3            4.0  28619.0  152.0  203.0  0.0\n",
       "4            5.0  27496.0  152.0   39.0  0.0\n",
       "...          ...      ...    ...    ...  ...\n",
       "381104  381105.0  30170.0   26.0   88.0  0.0\n",
       "381105  381106.0  40016.0  152.0  131.0  0.0\n",
       "381106  381107.0  35118.0  160.0  161.0  0.0\n",
       "381107  381108.0  44617.0  124.0   74.0  0.0\n",
       "381108  381109.0  41777.0   26.0  237.0  0.0\n",
       "\n",
       "[381109 rows x 5 columns]"
      ]
     },
     "execution_count": 8,
     "metadata": {},
     "output_type": "execute_result"
    }
   ],
   "source": [
    "cp_d"
   ]
  },
  {
   "cell_type": "code",
   "execution_count": 9,
   "id": "b7dbd24e",
   "metadata": {},
   "outputs": [],
   "source": [
    "cp_d.columns= ['customer_id', \n",
    "\n",
    "              'annual_premium' , \n",
    "\n",
    "              'sales channel code', \n",
    "\n",
    "              'vintage',    \n",
    "              \n",
    "              'response' ]"
   ]
  },
  {
   "cell_type": "code",
   "execution_count": 10,
   "id": "8c218999",
   "metadata": {},
   "outputs": [
    {
     "data": {
      "text/html": [
       "<div>\n",
       "<style scoped>\n",
       "    .dataframe tbody tr th:only-of-type {\n",
       "        vertical-align: middle;\n",
       "    }\n",
       "\n",
       "    .dataframe tbody tr th {\n",
       "        vertical-align: top;\n",
       "    }\n",
       "\n",
       "    .dataframe thead th {\n",
       "        text-align: right;\n",
       "    }\n",
       "</style>\n",
       "<table border=\"1\" class=\"dataframe\">\n",
       "  <thead>\n",
       "    <tr style=\"text-align: right;\">\n",
       "      <th></th>\n",
       "      <th>customer_id</th>\n",
       "      <th>annual_premium</th>\n",
       "      <th>sales channel code</th>\n",
       "      <th>vintage</th>\n",
       "      <th>response</th>\n",
       "    </tr>\n",
       "  </thead>\n",
       "  <tbody>\n",
       "    <tr>\n",
       "      <th>0</th>\n",
       "      <td>1.0</td>\n",
       "      <td>40454.0</td>\n",
       "      <td>26.0</td>\n",
       "      <td>217.0</td>\n",
       "      <td>1.0</td>\n",
       "    </tr>\n",
       "    <tr>\n",
       "      <th>1</th>\n",
       "      <td>2.0</td>\n",
       "      <td>33536.0</td>\n",
       "      <td>26.0</td>\n",
       "      <td>183.0</td>\n",
       "      <td>0.0</td>\n",
       "    </tr>\n",
       "    <tr>\n",
       "      <th>2</th>\n",
       "      <td>3.0</td>\n",
       "      <td>38294.0</td>\n",
       "      <td>26.0</td>\n",
       "      <td>27.0</td>\n",
       "      <td>1.0</td>\n",
       "    </tr>\n",
       "    <tr>\n",
       "      <th>3</th>\n",
       "      <td>4.0</td>\n",
       "      <td>28619.0</td>\n",
       "      <td>152.0</td>\n",
       "      <td>203.0</td>\n",
       "      <td>0.0</td>\n",
       "    </tr>\n",
       "    <tr>\n",
       "      <th>4</th>\n",
       "      <td>5.0</td>\n",
       "      <td>27496.0</td>\n",
       "      <td>152.0</td>\n",
       "      <td>39.0</td>\n",
       "      <td>0.0</td>\n",
       "    </tr>\n",
       "    <tr>\n",
       "      <th>...</th>\n",
       "      <td>...</td>\n",
       "      <td>...</td>\n",
       "      <td>...</td>\n",
       "      <td>...</td>\n",
       "      <td>...</td>\n",
       "    </tr>\n",
       "    <tr>\n",
       "      <th>381104</th>\n",
       "      <td>381105.0</td>\n",
       "      <td>30170.0</td>\n",
       "      <td>26.0</td>\n",
       "      <td>88.0</td>\n",
       "      <td>0.0</td>\n",
       "    </tr>\n",
       "    <tr>\n",
       "      <th>381105</th>\n",
       "      <td>381106.0</td>\n",
       "      <td>40016.0</td>\n",
       "      <td>152.0</td>\n",
       "      <td>131.0</td>\n",
       "      <td>0.0</td>\n",
       "    </tr>\n",
       "    <tr>\n",
       "      <th>381106</th>\n",
       "      <td>381107.0</td>\n",
       "      <td>35118.0</td>\n",
       "      <td>160.0</td>\n",
       "      <td>161.0</td>\n",
       "      <td>0.0</td>\n",
       "    </tr>\n",
       "    <tr>\n",
       "      <th>381107</th>\n",
       "      <td>381108.0</td>\n",
       "      <td>44617.0</td>\n",
       "      <td>124.0</td>\n",
       "      <td>74.0</td>\n",
       "      <td>0.0</td>\n",
       "    </tr>\n",
       "    <tr>\n",
       "      <th>381108</th>\n",
       "      <td>381109.0</td>\n",
       "      <td>41777.0</td>\n",
       "      <td>26.0</td>\n",
       "      <td>237.0</td>\n",
       "      <td>0.0</td>\n",
       "    </tr>\n",
       "  </tbody>\n",
       "</table>\n",
       "<p>381109 rows × 5 columns</p>\n",
       "</div>"
      ],
      "text/plain": [
       "        customer_id  annual_premium  sales channel code  vintage  response\n",
       "0               1.0         40454.0                26.0    217.0       1.0\n",
       "1               2.0         33536.0                26.0    183.0       0.0\n",
       "2               3.0         38294.0                26.0     27.0       1.0\n",
       "3               4.0         28619.0               152.0    203.0       0.0\n",
       "4               5.0         27496.0               152.0     39.0       0.0\n",
       "...             ...             ...                 ...      ...       ...\n",
       "381104     381105.0         30170.0                26.0     88.0       0.0\n",
       "381105     381106.0         40016.0               152.0    131.0       0.0\n",
       "381106     381107.0         35118.0               160.0    161.0       0.0\n",
       "381107     381108.0         44617.0               124.0     74.0       0.0\n",
       "381108     381109.0         41777.0                26.0    237.0       0.0\n",
       "\n",
       "[381109 rows x 5 columns]"
      ]
     },
     "execution_count": 10,
     "metadata": {},
     "output_type": "execute_result"
    }
   ],
   "source": [
    "cp_d"
   ]
  },
  {
   "cell_type": "markdown",
   "id": "06a658af",
   "metadata": {},
   "source": [
    "# 2. Checking and Cleaning Data Quality(Customer_details dataset)"
   ]
  },
  {
   "cell_type": "markdown",
   "id": "2f8107c3",
   "metadata": {},
   "source": [
    "## i. Null Values"
   ]
  },
  {
   "cell_type": "markdown",
   "id": "6f91abc9",
   "metadata": {},
   "source": [
    "1.Generate a summary of count of all the null values column wise"
   ]
  },
  {
   "cell_type": "code",
   "execution_count": 11,
   "id": "f82bb1a4",
   "metadata": {},
   "outputs": [
    {
     "data": {
      "text/plain": [
       "customer_id                386\n",
       "Gender                     368\n",
       "age                        368\n",
       "driving licence present    393\n",
       "region code                392\n",
       "previously insured         381\n",
       "vehicle age                381\n",
       "vehicle damage             407\n",
       "dtype: int64"
      ]
     },
     "execution_count": 11,
     "metadata": {},
     "output_type": "execute_result"
    }
   ],
   "source": [
    "cd.isnull().sum()"
   ]
  },
  {
   "cell_type": "markdown",
   "id": "1e4424c4",
   "metadata": {},
   "source": [
    "2.Drop Null values for customer_id"
   ]
  },
  {
   "cell_type": "code",
   "execution_count": 12,
   "id": "be46a58d",
   "metadata": {},
   "outputs": [],
   "source": [
    "cd.dropna(subset = ['customer_id'],inplace = True)"
   ]
  },
  {
   "cell_type": "code",
   "execution_count": 13,
   "id": "8ca273ac",
   "metadata": {},
   "outputs": [
    {
     "data": {
      "text/plain": [
       "customer_id                  0\n",
       "Gender                     368\n",
       "age                        366\n",
       "driving licence present    392\n",
       "region code                391\n",
       "previously insured         381\n",
       "vehicle age                381\n",
       "vehicle damage             406\n",
       "dtype: int64"
      ]
     },
     "execution_count": 13,
     "metadata": {},
     "output_type": "execute_result"
    }
   ],
   "source": [
    "cd.isnull().sum()"
   ]
  },
  {
   "cell_type": "markdown",
   "id": "1f3d23e9",
   "metadata": {},
   "source": [
    "3.Replace all null values for numeric columns by mean"
   ]
  },
  {
   "cell_type": "code",
   "execution_count": 14,
   "id": "eb8c3edd",
   "metadata": {},
   "outputs": [],
   "source": [
    "cd['age'].fillna(cd['age'].mean(),inplace = True)"
   ]
  },
  {
   "cell_type": "code",
   "execution_count": 15,
   "id": "ec7b8866",
   "metadata": {},
   "outputs": [],
   "source": [
    "cd['previously insured'].fillna(cd['previously insured'].mean(),inplace = True)"
   ]
  },
  {
   "cell_type": "markdown",
   "id": "f9939f34",
   "metadata": {},
   "source": [
    "4.Replace all null values for Categorical value by mode."
   ]
  },
  {
   "cell_type": "code",
   "execution_count": 16,
   "id": "561fd6a2",
   "metadata": {},
   "outputs": [],
   "source": [
    "cd['Gender'].fillna(cd['Gender'].mode()[0],inplace = True)"
   ]
  },
  {
   "cell_type": "code",
   "execution_count": 17,
   "id": "4b8736e3",
   "metadata": {},
   "outputs": [],
   "source": [
    "cd['vehicle age'].fillna(cd['vehicle age'].mode()[0],inplace = True)"
   ]
  },
  {
   "cell_type": "code",
   "execution_count": 18,
   "id": "40a761be",
   "metadata": {},
   "outputs": [],
   "source": [
    "cd['vehicle damage'].fillna(cd['vehicle damage'].mode()[0],inplace = True)"
   ]
  },
  {
   "cell_type": "code",
   "execution_count": 19,
   "id": "ba5e9183",
   "metadata": {},
   "outputs": [],
   "source": [
    "cd['driving licence present'].fillna(cd['driving licence present'].mode()[0],inplace = True)"
   ]
  },
  {
   "cell_type": "code",
   "execution_count": 20,
   "id": "ec619ceb",
   "metadata": {},
   "outputs": [],
   "source": [
    "cd['region code'].fillna(cd['region code'].mode()[0],inplace = True)"
   ]
  },
  {
   "cell_type": "code",
   "execution_count": 21,
   "id": "013b10cb",
   "metadata": {},
   "outputs": [
    {
     "data": {
      "text/plain": [
       "customer_id                0\n",
       "Gender                     0\n",
       "age                        0\n",
       "driving licence present    0\n",
       "region code                0\n",
       "previously insured         0\n",
       "vehicle age                0\n",
       "vehicle damage             0\n",
       "dtype: int64"
      ]
     },
     "execution_count": 21,
     "metadata": {},
     "output_type": "execute_result"
    }
   ],
   "source": [
    "cd.isnull().sum()"
   ]
  },
  {
   "cell_type": "markdown",
   "id": "e9aed8d3",
   "metadata": {},
   "source": [
    "## ii. Outliers"
   ]
  },
  {
   "cell_type": "markdown",
   "id": "f6c3884c",
   "metadata": {},
   "source": [
    "Generate a summary of count of all the outliers column wise"
   ]
  },
  {
   "cell_type": "code",
   "execution_count": 22,
   "id": "2931ec1d",
   "metadata": {},
   "outputs": [
    {
     "name": "stderr",
     "output_type": "stream",
     "text": [
      "<ipython-input-22-2e0331449efe>:8: FutureWarning: Automatic reindexing on DataFrame vs Series comparisons is deprecated and will raise ValueError in a future version.  Do `left, right = left.align(right, axis=1, copy=False)` before e.g. `left == right`\n",
      "  outliers1 = ((cd<lower)|(cd>upper)).sum()\n",
      "<ipython-input-22-2e0331449efe>:8: FutureWarning: Automatic reindexing on DataFrame vs Series comparisons is deprecated and will raise ValueError in a future version.  Do `left, right = left.align(right, axis=1, copy=False)` before e.g. `left == right`\n",
      "  outliers1 = ((cd<lower)|(cd>upper)).sum()\n"
     ]
    },
    {
     "name": "stdout",
     "output_type": "stream",
     "text": [
      "Gender                       0\n",
      "age                          0\n",
      "customer_id                  0\n",
      "driving licence present    811\n",
      "previously insured           0\n",
      "region code                  0\n",
      "vehicle age                  0\n",
      "vehicle damage               0\n",
      "dtype: int64\n"
     ]
    }
   ],
   "source": [
    "Q1 = cd.quantile(0.25)\n",
    "Q3 = cd.quantile(0.75)\n",
    "IQR = Q3-Q1\n",
    "\n",
    "lower = Q1-IQR*1.5\n",
    "upper = Q3+IQR*1.5\n",
    "\n",
    "outliers1 = ((cd<lower)|(cd>upper)).sum()\n",
    "print(outliers1)"
   ]
  },
  {
   "cell_type": "markdown",
   "id": "6b12da4f",
   "metadata": {},
   "source": [
    "### Here we can say that Expect 'driving licence present' all the  columns are not having outliers and also this driving license column is categorical because it is yes or no type so we cannot perform any operation"
   ]
  },
  {
   "cell_type": "markdown",
   "id": "9d864ae6",
   "metadata": {},
   "source": [
    "## iii. white spaces"
   ]
  },
  {
   "cell_type": "markdown",
   "id": "10519adc",
   "metadata": {},
   "source": [
    "Remove white spaces"
   ]
  },
  {
   "cell_type": "code",
   "execution_count": 23,
   "id": "d17dac5e",
   "metadata": {},
   "outputs": [
    {
     "data": {
      "text/plain": [
       "0           Male\n",
       "1           Male\n",
       "2           Male\n",
       "3           Male\n",
       "4         Female\n",
       "           ...  \n",
       "381104      Male\n",
       "381105      Male\n",
       "381106      Male\n",
       "381107    Female\n",
       "381108      Male\n",
       "Name: Gender, Length: 380723, dtype: object"
      ]
     },
     "execution_count": 23,
     "metadata": {},
     "output_type": "execute_result"
    }
   ],
   "source": [
    "cd['Gender'].str.strip()"
   ]
  },
  {
   "cell_type": "code",
   "execution_count": 24,
   "id": "8c8a15df",
   "metadata": {},
   "outputs": [
    {
     "data": {
      "text/plain": [
       "0         > 2 Years\n",
       "1          1-2 Year\n",
       "2         > 2 Years\n",
       "3          < 1 Year\n",
       "4          < 1 Year\n",
       "            ...    \n",
       "381104     1-2 Year\n",
       "381105     < 1 Year\n",
       "381106     < 1 Year\n",
       "381107    > 2 Years\n",
       "381108     1-2 Year\n",
       "Name: vehicle age, Length: 380723, dtype: object"
      ]
     },
     "execution_count": 24,
     "metadata": {},
     "output_type": "execute_result"
    }
   ],
   "source": [
    "cd['vehicle age'].str.strip()"
   ]
  },
  {
   "cell_type": "code",
   "execution_count": 25,
   "id": "240e6b46",
   "metadata": {},
   "outputs": [
    {
     "data": {
      "text/plain": [
       "0         Yes\n",
       "1          No\n",
       "2         Yes\n",
       "3          No\n",
       "4          No\n",
       "         ... \n",
       "381104     No\n",
       "381105     No\n",
       "381106     No\n",
       "381107    Yes\n",
       "381108     No\n",
       "Name: vehicle damage, Length: 380723, dtype: object"
      ]
     },
     "execution_count": 25,
     "metadata": {},
     "output_type": "execute_result"
    }
   ],
   "source": [
    "cd['vehicle damage'].str.strip()"
   ]
  },
  {
   "cell_type": "markdown",
   "id": "a5bfc98c",
   "metadata": {},
   "source": [
    "##  iv. case correction"
   ]
  },
  {
   "cell_type": "code",
   "execution_count": 26,
   "id": "ac11d3f3",
   "metadata": {},
   "outputs": [
    {
     "data": {
      "text/plain": [
       "0           MALE\n",
       "1           MALE\n",
       "2           MALE\n",
       "3           MALE\n",
       "4         FEMALE\n",
       "           ...  \n",
       "381104      MALE\n",
       "381105      MALE\n",
       "381106      MALE\n",
       "381107    FEMALE\n",
       "381108      MALE\n",
       "Name: Gender, Length: 380723, dtype: object"
      ]
     },
     "execution_count": 26,
     "metadata": {},
     "output_type": "execute_result"
    }
   ],
   "source": [
    "cd['Gender'].str.upper()"
   ]
  },
  {
   "cell_type": "code",
   "execution_count": 27,
   "id": "d63018e2",
   "metadata": {},
   "outputs": [
    {
     "data": {
      "text/plain": [
       "0         > 2 years\n",
       "1          1-2 year\n",
       "2         > 2 years\n",
       "3          < 1 year\n",
       "4          < 1 year\n",
       "            ...    \n",
       "381104     1-2 year\n",
       "381105     < 1 year\n",
       "381106     < 1 year\n",
       "381107    > 2 years\n",
       "381108     1-2 year\n",
       "Name: vehicle age, Length: 380723, dtype: object"
      ]
     },
     "execution_count": 27,
     "metadata": {},
     "output_type": "execute_result"
    }
   ],
   "source": [
    "cd['vehicle age'].str.lower()"
   ]
  },
  {
   "cell_type": "code",
   "execution_count": 28,
   "id": "47548e4c",
   "metadata": {},
   "outputs": [
    {
     "data": {
      "text/plain": [
       "0         YES\n",
       "1          NO\n",
       "2         YES\n",
       "3          NO\n",
       "4          NO\n",
       "         ... \n",
       "381104     NO\n",
       "381105     NO\n",
       "381106     NO\n",
       "381107    YES\n",
       "381108     NO\n",
       "Name: vehicle damage, Length: 380723, dtype: object"
      ]
     },
     "execution_count": 28,
     "metadata": {},
     "output_type": "execute_result"
    }
   ],
   "source": [
    "cd['vehicle damage'].str.upper()"
   ]
  },
  {
   "cell_type": "markdown",
   "id": "4bdd0e00",
   "metadata": {},
   "source": [
    "## V. Convert nominal data (categorical) into dummies "
   ]
  },
  {
   "cell_type": "markdown",
   "id": "812bb77c",
   "metadata": {},
   "source": [
    "For Future Modeling use if required"
   ]
  },
  {
   "cell_type": "code",
   "execution_count": 29,
   "id": "74b7cfe9",
   "metadata": {},
   "outputs": [],
   "source": [
    "dummy_data = pd.get_dummies(cd)"
   ]
  },
  {
   "cell_type": "code",
   "execution_count": 30,
   "id": "3f788088",
   "metadata": {},
   "outputs": [
    {
     "data": {
      "text/html": [
       "<div>\n",
       "<style scoped>\n",
       "    .dataframe tbody tr th:only-of-type {\n",
       "        vertical-align: middle;\n",
       "    }\n",
       "\n",
       "    .dataframe tbody tr th {\n",
       "        vertical-align: top;\n",
       "    }\n",
       "\n",
       "    .dataframe thead th {\n",
       "        text-align: right;\n",
       "    }\n",
       "</style>\n",
       "<table border=\"1\" class=\"dataframe\">\n",
       "  <thead>\n",
       "    <tr style=\"text-align: right;\">\n",
       "      <th></th>\n",
       "      <th>customer_id</th>\n",
       "      <th>age</th>\n",
       "      <th>driving licence present</th>\n",
       "      <th>region code</th>\n",
       "      <th>previously insured</th>\n",
       "      <th>Gender_Female</th>\n",
       "      <th>Gender_Male</th>\n",
       "      <th>vehicle age_1-2 Year</th>\n",
       "      <th>vehicle age_&lt; 1 Year</th>\n",
       "      <th>vehicle age_&gt; 2 Years</th>\n",
       "      <th>vehicle damage_No</th>\n",
       "      <th>vehicle damage_Yes</th>\n",
       "    </tr>\n",
       "  </thead>\n",
       "  <tbody>\n",
       "    <tr>\n",
       "      <th>0</th>\n",
       "      <td>1.0</td>\n",
       "      <td>44.0</td>\n",
       "      <td>1.0</td>\n",
       "      <td>28.0</td>\n",
       "      <td>0.0</td>\n",
       "      <td>0</td>\n",
       "      <td>1</td>\n",
       "      <td>0</td>\n",
       "      <td>0</td>\n",
       "      <td>1</td>\n",
       "      <td>0</td>\n",
       "      <td>1</td>\n",
       "    </tr>\n",
       "    <tr>\n",
       "      <th>1</th>\n",
       "      <td>2.0</td>\n",
       "      <td>76.0</td>\n",
       "      <td>1.0</td>\n",
       "      <td>3.0</td>\n",
       "      <td>0.0</td>\n",
       "      <td>0</td>\n",
       "      <td>1</td>\n",
       "      <td>1</td>\n",
       "      <td>0</td>\n",
       "      <td>0</td>\n",
       "      <td>1</td>\n",
       "      <td>0</td>\n",
       "    </tr>\n",
       "    <tr>\n",
       "      <th>2</th>\n",
       "      <td>3.0</td>\n",
       "      <td>47.0</td>\n",
       "      <td>1.0</td>\n",
       "      <td>28.0</td>\n",
       "      <td>0.0</td>\n",
       "      <td>0</td>\n",
       "      <td>1</td>\n",
       "      <td>0</td>\n",
       "      <td>0</td>\n",
       "      <td>1</td>\n",
       "      <td>0</td>\n",
       "      <td>1</td>\n",
       "    </tr>\n",
       "    <tr>\n",
       "      <th>3</th>\n",
       "      <td>4.0</td>\n",
       "      <td>21.0</td>\n",
       "      <td>1.0</td>\n",
       "      <td>11.0</td>\n",
       "      <td>1.0</td>\n",
       "      <td>0</td>\n",
       "      <td>1</td>\n",
       "      <td>0</td>\n",
       "      <td>1</td>\n",
       "      <td>0</td>\n",
       "      <td>1</td>\n",
       "      <td>0</td>\n",
       "    </tr>\n",
       "    <tr>\n",
       "      <th>4</th>\n",
       "      <td>5.0</td>\n",
       "      <td>29.0</td>\n",
       "      <td>1.0</td>\n",
       "      <td>41.0</td>\n",
       "      <td>1.0</td>\n",
       "      <td>1</td>\n",
       "      <td>0</td>\n",
       "      <td>0</td>\n",
       "      <td>1</td>\n",
       "      <td>0</td>\n",
       "      <td>1</td>\n",
       "      <td>0</td>\n",
       "    </tr>\n",
       "    <tr>\n",
       "      <th>...</th>\n",
       "      <td>...</td>\n",
       "      <td>...</td>\n",
       "      <td>...</td>\n",
       "      <td>...</td>\n",
       "      <td>...</td>\n",
       "      <td>...</td>\n",
       "      <td>...</td>\n",
       "      <td>...</td>\n",
       "      <td>...</td>\n",
       "      <td>...</td>\n",
       "      <td>...</td>\n",
       "      <td>...</td>\n",
       "    </tr>\n",
       "    <tr>\n",
       "      <th>381104</th>\n",
       "      <td>381105.0</td>\n",
       "      <td>74.0</td>\n",
       "      <td>1.0</td>\n",
       "      <td>26.0</td>\n",
       "      <td>1.0</td>\n",
       "      <td>0</td>\n",
       "      <td>1</td>\n",
       "      <td>1</td>\n",
       "      <td>0</td>\n",
       "      <td>0</td>\n",
       "      <td>1</td>\n",
       "      <td>0</td>\n",
       "    </tr>\n",
       "    <tr>\n",
       "      <th>381105</th>\n",
       "      <td>381106.0</td>\n",
       "      <td>30.0</td>\n",
       "      <td>1.0</td>\n",
       "      <td>37.0</td>\n",
       "      <td>1.0</td>\n",
       "      <td>0</td>\n",
       "      <td>1</td>\n",
       "      <td>0</td>\n",
       "      <td>1</td>\n",
       "      <td>0</td>\n",
       "      <td>1</td>\n",
       "      <td>0</td>\n",
       "    </tr>\n",
       "    <tr>\n",
       "      <th>381106</th>\n",
       "      <td>381107.0</td>\n",
       "      <td>21.0</td>\n",
       "      <td>1.0</td>\n",
       "      <td>30.0</td>\n",
       "      <td>1.0</td>\n",
       "      <td>0</td>\n",
       "      <td>1</td>\n",
       "      <td>0</td>\n",
       "      <td>1</td>\n",
       "      <td>0</td>\n",
       "      <td>1</td>\n",
       "      <td>0</td>\n",
       "    </tr>\n",
       "    <tr>\n",
       "      <th>381107</th>\n",
       "      <td>381108.0</td>\n",
       "      <td>68.0</td>\n",
       "      <td>1.0</td>\n",
       "      <td>14.0</td>\n",
       "      <td>0.0</td>\n",
       "      <td>1</td>\n",
       "      <td>0</td>\n",
       "      <td>0</td>\n",
       "      <td>0</td>\n",
       "      <td>1</td>\n",
       "      <td>0</td>\n",
       "      <td>1</td>\n",
       "    </tr>\n",
       "    <tr>\n",
       "      <th>381108</th>\n",
       "      <td>381109.0</td>\n",
       "      <td>46.0</td>\n",
       "      <td>1.0</td>\n",
       "      <td>29.0</td>\n",
       "      <td>0.0</td>\n",
       "      <td>0</td>\n",
       "      <td>1</td>\n",
       "      <td>1</td>\n",
       "      <td>0</td>\n",
       "      <td>0</td>\n",
       "      <td>1</td>\n",
       "      <td>0</td>\n",
       "    </tr>\n",
       "  </tbody>\n",
       "</table>\n",
       "<p>380723 rows × 12 columns</p>\n",
       "</div>"
      ],
      "text/plain": [
       "        customer_id   age  driving licence present  region code  \\\n",
       "0               1.0  44.0                      1.0         28.0   \n",
       "1               2.0  76.0                      1.0          3.0   \n",
       "2               3.0  47.0                      1.0         28.0   \n",
       "3               4.0  21.0                      1.0         11.0   \n",
       "4               5.0  29.0                      1.0         41.0   \n",
       "...             ...   ...                      ...          ...   \n",
       "381104     381105.0  74.0                      1.0         26.0   \n",
       "381105     381106.0  30.0                      1.0         37.0   \n",
       "381106     381107.0  21.0                      1.0         30.0   \n",
       "381107     381108.0  68.0                      1.0         14.0   \n",
       "381108     381109.0  46.0                      1.0         29.0   \n",
       "\n",
       "        previously insured  Gender_Female  Gender_Male  vehicle age_1-2 Year  \\\n",
       "0                      0.0              0            1                     0   \n",
       "1                      0.0              0            1                     1   \n",
       "2                      0.0              0            1                     0   \n",
       "3                      1.0              0            1                     0   \n",
       "4                      1.0              1            0                     0   \n",
       "...                    ...            ...          ...                   ...   \n",
       "381104                 1.0              0            1                     1   \n",
       "381105                 1.0              0            1                     0   \n",
       "381106                 1.0              0            1                     0   \n",
       "381107                 0.0              1            0                     0   \n",
       "381108                 0.0              0            1                     1   \n",
       "\n",
       "        vehicle age_< 1 Year  vehicle age_> 2 Years  vehicle damage_No  \\\n",
       "0                          0                      1                  0   \n",
       "1                          0                      0                  1   \n",
       "2                          0                      1                  0   \n",
       "3                          1                      0                  1   \n",
       "4                          1                      0                  1   \n",
       "...                      ...                    ...                ...   \n",
       "381104                     0                      0                  1   \n",
       "381105                     1                      0                  1   \n",
       "381106                     1                      0                  1   \n",
       "381107                     0                      1                  0   \n",
       "381108                     0                      0                  1   \n",
       "\n",
       "        vehicle damage_Yes  \n",
       "0                        1  \n",
       "1                        0  \n",
       "2                        1  \n",
       "3                        0  \n",
       "4                        0  \n",
       "...                    ...  \n",
       "381104                   0  \n",
       "381105                   0  \n",
       "381106                   0  \n",
       "381107                   1  \n",
       "381108                   0  \n",
       "\n",
       "[380723 rows x 12 columns]"
      ]
     },
     "execution_count": 30,
     "metadata": {},
     "output_type": "execute_result"
    }
   ],
   "source": [
    "dummy_data"
   ]
  },
  {
   "cell_type": "markdown",
   "id": "20cd2e8a",
   "metadata": {},
   "source": [
    "##  Vi. Drop Duplicates"
   ]
  },
  {
   "cell_type": "code",
   "execution_count": 31,
   "id": "97eb2c4c",
   "metadata": {},
   "outputs": [
    {
     "data": {
      "text/html": [
       "<div>\n",
       "<style scoped>\n",
       "    .dataframe tbody tr th:only-of-type {\n",
       "        vertical-align: middle;\n",
       "    }\n",
       "\n",
       "    .dataframe tbody tr th {\n",
       "        vertical-align: top;\n",
       "    }\n",
       "\n",
       "    .dataframe thead th {\n",
       "        text-align: right;\n",
       "    }\n",
       "</style>\n",
       "<table border=\"1\" class=\"dataframe\">\n",
       "  <thead>\n",
       "    <tr style=\"text-align: right;\">\n",
       "      <th></th>\n",
       "      <th>customer_id</th>\n",
       "      <th>Gender</th>\n",
       "      <th>age</th>\n",
       "      <th>driving licence present</th>\n",
       "      <th>region code</th>\n",
       "      <th>previously insured</th>\n",
       "      <th>vehicle age</th>\n",
       "      <th>vehicle damage</th>\n",
       "    </tr>\n",
       "  </thead>\n",
       "  <tbody>\n",
       "    <tr>\n",
       "      <th>0</th>\n",
       "      <td>1.0</td>\n",
       "      <td>Male</td>\n",
       "      <td>44.0</td>\n",
       "      <td>1.0</td>\n",
       "      <td>28.0</td>\n",
       "      <td>0.0</td>\n",
       "      <td>&gt; 2 Years</td>\n",
       "      <td>Yes</td>\n",
       "    </tr>\n",
       "    <tr>\n",
       "      <th>1</th>\n",
       "      <td>2.0</td>\n",
       "      <td>Male</td>\n",
       "      <td>76.0</td>\n",
       "      <td>1.0</td>\n",
       "      <td>3.0</td>\n",
       "      <td>0.0</td>\n",
       "      <td>1-2 Year</td>\n",
       "      <td>No</td>\n",
       "    </tr>\n",
       "    <tr>\n",
       "      <th>2</th>\n",
       "      <td>3.0</td>\n",
       "      <td>Male</td>\n",
       "      <td>47.0</td>\n",
       "      <td>1.0</td>\n",
       "      <td>28.0</td>\n",
       "      <td>0.0</td>\n",
       "      <td>&gt; 2 Years</td>\n",
       "      <td>Yes</td>\n",
       "    </tr>\n",
       "    <tr>\n",
       "      <th>3</th>\n",
       "      <td>4.0</td>\n",
       "      <td>Male</td>\n",
       "      <td>21.0</td>\n",
       "      <td>1.0</td>\n",
       "      <td>11.0</td>\n",
       "      <td>1.0</td>\n",
       "      <td>&lt; 1 Year</td>\n",
       "      <td>No</td>\n",
       "    </tr>\n",
       "    <tr>\n",
       "      <th>4</th>\n",
       "      <td>5.0</td>\n",
       "      <td>Female</td>\n",
       "      <td>29.0</td>\n",
       "      <td>1.0</td>\n",
       "      <td>41.0</td>\n",
       "      <td>1.0</td>\n",
       "      <td>&lt; 1 Year</td>\n",
       "      <td>No</td>\n",
       "    </tr>\n",
       "    <tr>\n",
       "      <th>...</th>\n",
       "      <td>...</td>\n",
       "      <td>...</td>\n",
       "      <td>...</td>\n",
       "      <td>...</td>\n",
       "      <td>...</td>\n",
       "      <td>...</td>\n",
       "      <td>...</td>\n",
       "      <td>...</td>\n",
       "    </tr>\n",
       "    <tr>\n",
       "      <th>381104</th>\n",
       "      <td>381105.0</td>\n",
       "      <td>Male</td>\n",
       "      <td>74.0</td>\n",
       "      <td>1.0</td>\n",
       "      <td>26.0</td>\n",
       "      <td>1.0</td>\n",
       "      <td>1-2 Year</td>\n",
       "      <td>No</td>\n",
       "    </tr>\n",
       "    <tr>\n",
       "      <th>381105</th>\n",
       "      <td>381106.0</td>\n",
       "      <td>Male</td>\n",
       "      <td>30.0</td>\n",
       "      <td>1.0</td>\n",
       "      <td>37.0</td>\n",
       "      <td>1.0</td>\n",
       "      <td>&lt; 1 Year</td>\n",
       "      <td>No</td>\n",
       "    </tr>\n",
       "    <tr>\n",
       "      <th>381106</th>\n",
       "      <td>381107.0</td>\n",
       "      <td>Male</td>\n",
       "      <td>21.0</td>\n",
       "      <td>1.0</td>\n",
       "      <td>30.0</td>\n",
       "      <td>1.0</td>\n",
       "      <td>&lt; 1 Year</td>\n",
       "      <td>No</td>\n",
       "    </tr>\n",
       "    <tr>\n",
       "      <th>381107</th>\n",
       "      <td>381108.0</td>\n",
       "      <td>Female</td>\n",
       "      <td>68.0</td>\n",
       "      <td>1.0</td>\n",
       "      <td>14.0</td>\n",
       "      <td>0.0</td>\n",
       "      <td>&gt; 2 Years</td>\n",
       "      <td>Yes</td>\n",
       "    </tr>\n",
       "    <tr>\n",
       "      <th>381108</th>\n",
       "      <td>381109.0</td>\n",
       "      <td>Male</td>\n",
       "      <td>46.0</td>\n",
       "      <td>1.0</td>\n",
       "      <td>29.0</td>\n",
       "      <td>0.0</td>\n",
       "      <td>1-2 Year</td>\n",
       "      <td>No</td>\n",
       "    </tr>\n",
       "  </tbody>\n",
       "</table>\n",
       "<p>380723 rows × 8 columns</p>\n",
       "</div>"
      ],
      "text/plain": [
       "        customer_id  Gender   age  driving licence present  region code  \\\n",
       "0               1.0    Male  44.0                      1.0         28.0   \n",
       "1               2.0    Male  76.0                      1.0          3.0   \n",
       "2               3.0    Male  47.0                      1.0         28.0   \n",
       "3               4.0    Male  21.0                      1.0         11.0   \n",
       "4               5.0  Female  29.0                      1.0         41.0   \n",
       "...             ...     ...   ...                      ...          ...   \n",
       "381104     381105.0    Male  74.0                      1.0         26.0   \n",
       "381105     381106.0    Male  30.0                      1.0         37.0   \n",
       "381106     381107.0    Male  21.0                      1.0         30.0   \n",
       "381107     381108.0  Female  68.0                      1.0         14.0   \n",
       "381108     381109.0    Male  46.0                      1.0         29.0   \n",
       "\n",
       "        previously insured vehicle age vehicle damage  \n",
       "0                      0.0   > 2 Years            Yes  \n",
       "1                      0.0    1-2 Year             No  \n",
       "2                      0.0   > 2 Years            Yes  \n",
       "3                      1.0    < 1 Year             No  \n",
       "4                      1.0    < 1 Year             No  \n",
       "...                    ...         ...            ...  \n",
       "381104                 1.0    1-2 Year             No  \n",
       "381105                 1.0    < 1 Year             No  \n",
       "381106                 1.0    < 1 Year             No  \n",
       "381107                 0.0   > 2 Years            Yes  \n",
       "381108                 0.0    1-2 Year             No  \n",
       "\n",
       "[380723 rows x 8 columns]"
      ]
     },
     "execution_count": 31,
     "metadata": {},
     "output_type": "execute_result"
    }
   ],
   "source": [
    "cd.drop_duplicates()"
   ]
  },
  {
   "cell_type": "markdown",
   "id": "23707ae7",
   "metadata": {},
   "source": [
    "# Checking and Cleaning Data Quality(Customer_policy_details dataset)"
   ]
  },
  {
   "cell_type": "markdown",
   "id": "a2f84ae4",
   "metadata": {},
   "source": [
    "## i. Null Values"
   ]
  },
  {
   "cell_type": "markdown",
   "id": "4595bc1c",
   "metadata": {},
   "source": [
    "1.Generate a summary of count of all the null values column wise"
   ]
  },
  {
   "cell_type": "code",
   "execution_count": 32,
   "id": "5e6d7ea3",
   "metadata": {},
   "outputs": [
    {
     "data": {
      "text/plain": [
       "customer_id           387\n",
       "annual_premium        346\n",
       "sales channel code    400\n",
       "vintage               388\n",
       "response              361\n",
       "dtype: int64"
      ]
     },
     "execution_count": 32,
     "metadata": {},
     "output_type": "execute_result"
    }
   ],
   "source": [
    "cp_d.isnull().sum()"
   ]
  },
  {
   "cell_type": "markdown",
   "id": "3ef6a3ef",
   "metadata": {},
   "source": [
    "2.Drop Null values for customer_id "
   ]
  },
  {
   "cell_type": "code",
   "execution_count": 33,
   "id": "a0f06fc0",
   "metadata": {},
   "outputs": [],
   "source": [
    "cp_d.dropna(subset = ['customer_id'],inplace = True)"
   ]
  },
  {
   "cell_type": "code",
   "execution_count": 34,
   "id": "c8301d13",
   "metadata": {},
   "outputs": [
    {
     "data": {
      "text/plain": [
       "customer_id             0\n",
       "annual_premium        344\n",
       "sales channel code    400\n",
       "vintage               388\n",
       "response              361\n",
       "dtype: int64"
      ]
     },
     "execution_count": 34,
     "metadata": {},
     "output_type": "execute_result"
    }
   ],
   "source": [
    "cp_d.isnull().sum()"
   ]
  },
  {
   "cell_type": "markdown",
   "id": "a1a46fd1",
   "metadata": {},
   "source": [
    "3.Replace all null values for numeric columns by mean"
   ]
  },
  {
   "cell_type": "code",
   "execution_count": 35,
   "id": "34cfb140",
   "metadata": {},
   "outputs": [],
   "source": [
    "cp_d['annual_premium'].fillna(cp_d['annual_premium'].mean(),inplace = True)"
   ]
  },
  {
   "cell_type": "code",
   "execution_count": 36,
   "id": "d74a5472",
   "metadata": {},
   "outputs": [],
   "source": [
    "cp_d['vintage'].fillna(cp_d['vintage'].mean(),inplace = True)"
   ]
  },
  {
   "cell_type": "markdown",
   "id": "0edf1f43",
   "metadata": {},
   "source": [
    "4.Replace all null values for Categorical value by mode"
   ]
  },
  {
   "cell_type": "code",
   "execution_count": 37,
   "id": "27ce4a99",
   "metadata": {},
   "outputs": [],
   "source": [
    "cp_d['response'].fillna(cp_d['response'].mode()[0],inplace = True)"
   ]
  },
  {
   "cell_type": "code",
   "execution_count": 38,
   "id": "cbc3227e",
   "metadata": {},
   "outputs": [],
   "source": [
    "cp_d['sales channel code'].fillna(cp_d['sales channel code'].mode()[0],inplace = True)"
   ]
  },
  {
   "cell_type": "code",
   "execution_count": 39,
   "id": "f6276900",
   "metadata": {},
   "outputs": [
    {
     "data": {
      "text/plain": [
       "customer_id           0\n",
       "annual_premium        0\n",
       "sales channel code    0\n",
       "vintage               0\n",
       "response              0\n",
       "dtype: int64"
      ]
     },
     "execution_count": 39,
     "metadata": {},
     "output_type": "execute_result"
    }
   ],
   "source": [
    "cp_d.isnull().sum()"
   ]
  },
  {
   "cell_type": "markdown",
   "id": "55e0e70a",
   "metadata": {},
   "source": [
    "## ii. Outliers"
   ]
  },
  {
   "cell_type": "markdown",
   "id": "d9044807",
   "metadata": {},
   "source": [
    "Generate a summary of count of all the outliers column wise"
   ]
  },
  {
   "cell_type": "code",
   "execution_count": 40,
   "id": "37905a4e",
   "metadata": {},
   "outputs": [
    {
     "name": "stdout",
     "output_type": "stream",
     "text": [
      "customer_id               0\n",
      "annual_premium        10332\n",
      "sales channel code        0\n",
      "vintage                   0\n",
      "response              46604\n",
      "dtype: int64\n"
     ]
    }
   ],
   "source": [
    "Q1 = cp_d.quantile(0.25)\n",
    "Q3 = cp_d.quantile(0.75)\n",
    "IQR = Q3-Q1\n",
    "\n",
    "lower = Q1-IQR*1.5\n",
    "upper = Q3+IQR*1.5\n",
    "\n",
    "outliers2 = ((cp_d<lower)|(cp_d>upper)).sum()\n",
    "print(outliers2)"
   ]
  },
  {
   "cell_type": "markdown",
   "id": "9dc6d4c0",
   "metadata": {},
   "source": [
    "For annual column only "
   ]
  },
  {
   "cell_type": "code",
   "execution_count": 41,
   "id": "cf013aba",
   "metadata": {},
   "outputs": [
    {
     "name": "stdout",
     "output_type": "stream",
     "text": [
      "0\n",
      "10332\n"
     ]
    }
   ],
   "source": [
    "Q1 = cp_d['annual_premium'].quantile(0.25)\n",
    "Q3 = cp_d['annual_premium'].quantile(0.75)\n",
    "IQR = Q3-Q1\n",
    "\n",
    "lower = Q1-IQR*1.5\n",
    "upper = Q3+IQR*1.5\n",
    "\n",
    "outliers_lower = (cp_d['annual_premium']<lower).sum()\n",
    "outliers_upper = (cp_d['annual_premium']>upper).sum()\n",
    "print(outliers_lower)\n",
    "print(outliers_upper)\n",
    "\n",
    "# We can say that their is outliers in upper side not in lower side."
   ]
  },
  {
   "cell_type": "markdown",
   "id": "5884f127",
   "metadata": {},
   "source": [
    " mean of annual premium"
   ]
  },
  {
   "cell_type": "code",
   "execution_count": 42,
   "id": "0648fda4",
   "metadata": {},
   "outputs": [
    {
     "name": "stdout",
     "output_type": "stream",
     "text": [
      "30563.99977390893\n"
     ]
    }
   ],
   "source": [
    "annual_mean = cp_d['annual_premium'].mean()\n",
    "print(annual_mean)"
   ]
  },
  {
   "cell_type": "markdown",
   "id": "b817e95a",
   "metadata": {},
   "source": [
    " Finding indexes for outliers"
   ]
  },
  {
   "cell_type": "code",
   "execution_count": 43,
   "id": "d59660ac",
   "metadata": {},
   "outputs": [],
   "source": [
    "col = (cp_d[['annual_premium']]>upper)\n",
    "index1 = col[col['annual_premium']].index"
   ]
  },
  {
   "cell_type": "code",
   "execution_count": 44,
   "id": "e1228e58",
   "metadata": {},
   "outputs": [
    {
     "name": "stdout",
     "output_type": "stream",
     "text": [
      "Int64Index([    25,     37,     67,    139,    149,    167,    176,    216,\n",
      "               310,    315,\n",
      "            ...\n",
      "            380655, 380733, 380761, 380815, 380860, 380959, 380998, 381035,\n",
      "            381047, 381079],\n",
      "           dtype='int64', length=10332)\n"
     ]
    }
   ],
   "source": [
    "print(index1)"
   ]
  },
  {
   "cell_type": "markdown",
   "id": "6488ff5e",
   "metadata": {},
   "source": [
    "Replacing outliers by annual mean by using indexes"
   ]
  },
  {
   "cell_type": "code",
   "execution_count": 45,
   "id": "b0047a96",
   "metadata": {},
   "outputs": [],
   "source": [
    "cp_d.loc[index1,'annual_premium'] = annual_mean"
   ]
  },
  {
   "cell_type": "markdown",
   "id": "5cc346cc",
   "metadata": {},
   "source": [
    "checking the outliers for annual premium after changing"
   ]
  },
  {
   "cell_type": "code",
   "execution_count": 46,
   "id": "445f63ae",
   "metadata": {},
   "outputs": [
    {
     "name": "stdout",
     "output_type": "stream",
     "text": [
      "0\n",
      "0\n"
     ]
    }
   ],
   "source": [
    "outliers_lower = (cp_d['annual_premium']<lower).sum()\n",
    "outliers_upper = (cp_d[\"annual_premium\"]>upper).sum()\n",
    "print(outliers_upper)\n",
    "print(outliers_lower)"
   ]
  },
  {
   "cell_type": "markdown",
   "id": "a3139790",
   "metadata": {},
   "source": [
    "###  The reponse column is categorical because its value is Yes no type . So that we can not perform operation with reposne column"
   ]
  },
  {
   "cell_type": "markdown",
   "id": "6fda2691",
   "metadata": {},
   "source": [
    "## Vi. Drop Duplicates"
   ]
  },
  {
   "cell_type": "code",
   "execution_count": 47,
   "id": "8e75b277",
   "metadata": {},
   "outputs": [
    {
     "data": {
      "text/html": [
       "<div>\n",
       "<style scoped>\n",
       "    .dataframe tbody tr th:only-of-type {\n",
       "        vertical-align: middle;\n",
       "    }\n",
       "\n",
       "    .dataframe tbody tr th {\n",
       "        vertical-align: top;\n",
       "    }\n",
       "\n",
       "    .dataframe thead th {\n",
       "        text-align: right;\n",
       "    }\n",
       "</style>\n",
       "<table border=\"1\" class=\"dataframe\">\n",
       "  <thead>\n",
       "    <tr style=\"text-align: right;\">\n",
       "      <th></th>\n",
       "      <th>customer_id</th>\n",
       "      <th>annual_premium</th>\n",
       "      <th>sales channel code</th>\n",
       "      <th>vintage</th>\n",
       "      <th>response</th>\n",
       "    </tr>\n",
       "  </thead>\n",
       "  <tbody>\n",
       "    <tr>\n",
       "      <th>0</th>\n",
       "      <td>1.0</td>\n",
       "      <td>40454.0</td>\n",
       "      <td>26.0</td>\n",
       "      <td>217.0</td>\n",
       "      <td>1.0</td>\n",
       "    </tr>\n",
       "    <tr>\n",
       "      <th>1</th>\n",
       "      <td>2.0</td>\n",
       "      <td>33536.0</td>\n",
       "      <td>26.0</td>\n",
       "      <td>183.0</td>\n",
       "      <td>0.0</td>\n",
       "    </tr>\n",
       "    <tr>\n",
       "      <th>2</th>\n",
       "      <td>3.0</td>\n",
       "      <td>38294.0</td>\n",
       "      <td>26.0</td>\n",
       "      <td>27.0</td>\n",
       "      <td>1.0</td>\n",
       "    </tr>\n",
       "    <tr>\n",
       "      <th>3</th>\n",
       "      <td>4.0</td>\n",
       "      <td>28619.0</td>\n",
       "      <td>152.0</td>\n",
       "      <td>203.0</td>\n",
       "      <td>0.0</td>\n",
       "    </tr>\n",
       "    <tr>\n",
       "      <th>4</th>\n",
       "      <td>5.0</td>\n",
       "      <td>27496.0</td>\n",
       "      <td>152.0</td>\n",
       "      <td>39.0</td>\n",
       "      <td>0.0</td>\n",
       "    </tr>\n",
       "    <tr>\n",
       "      <th>...</th>\n",
       "      <td>...</td>\n",
       "      <td>...</td>\n",
       "      <td>...</td>\n",
       "      <td>...</td>\n",
       "      <td>...</td>\n",
       "    </tr>\n",
       "    <tr>\n",
       "      <th>381104</th>\n",
       "      <td>381105.0</td>\n",
       "      <td>30170.0</td>\n",
       "      <td>26.0</td>\n",
       "      <td>88.0</td>\n",
       "      <td>0.0</td>\n",
       "    </tr>\n",
       "    <tr>\n",
       "      <th>381105</th>\n",
       "      <td>381106.0</td>\n",
       "      <td>40016.0</td>\n",
       "      <td>152.0</td>\n",
       "      <td>131.0</td>\n",
       "      <td>0.0</td>\n",
       "    </tr>\n",
       "    <tr>\n",
       "      <th>381106</th>\n",
       "      <td>381107.0</td>\n",
       "      <td>35118.0</td>\n",
       "      <td>160.0</td>\n",
       "      <td>161.0</td>\n",
       "      <td>0.0</td>\n",
       "    </tr>\n",
       "    <tr>\n",
       "      <th>381107</th>\n",
       "      <td>381108.0</td>\n",
       "      <td>44617.0</td>\n",
       "      <td>124.0</td>\n",
       "      <td>74.0</td>\n",
       "      <td>0.0</td>\n",
       "    </tr>\n",
       "    <tr>\n",
       "      <th>381108</th>\n",
       "      <td>381109.0</td>\n",
       "      <td>41777.0</td>\n",
       "      <td>26.0</td>\n",
       "      <td>237.0</td>\n",
       "      <td>0.0</td>\n",
       "    </tr>\n",
       "  </tbody>\n",
       "</table>\n",
       "<p>380722 rows × 5 columns</p>\n",
       "</div>"
      ],
      "text/plain": [
       "        customer_id  annual_premium  sales channel code  vintage  response\n",
       "0               1.0         40454.0                26.0    217.0       1.0\n",
       "1               2.0         33536.0                26.0    183.0       0.0\n",
       "2               3.0         38294.0                26.0     27.0       1.0\n",
       "3               4.0         28619.0               152.0    203.0       0.0\n",
       "4               5.0         27496.0               152.0     39.0       0.0\n",
       "...             ...             ...                 ...      ...       ...\n",
       "381104     381105.0         30170.0                26.0     88.0       0.0\n",
       "381105     381106.0         40016.0               152.0    131.0       0.0\n",
       "381106     381107.0         35118.0               160.0    161.0       0.0\n",
       "381107     381108.0         44617.0               124.0     74.0       0.0\n",
       "381108     381109.0         41777.0                26.0    237.0       0.0\n",
       "\n",
       "[380722 rows x 5 columns]"
      ]
     },
     "execution_count": 47,
     "metadata": {},
     "output_type": "execute_result"
    }
   ],
   "source": [
    "cp_d.drop_duplicates()"
   ]
  },
  {
   "cell_type": "markdown",
   "id": "623ed2d3",
   "metadata": {},
   "source": [
    "### Their is no categorical data present in the customer_policy_details dataset .So, we didn't perform any opertion to clean the white spaces,case correction and convert nominal data into dummies"
   ]
  },
  {
   "cell_type": "markdown",
   "id": "8c2d0e5e",
   "metadata": {},
   "source": [
    "# 3. Creating a Master table for future use. Join the customer table and customer_policy table to get a master table using customer_id in both tables"
   ]
  },
  {
   "cell_type": "code",
   "execution_count": 48,
   "id": "43f8e5e9",
   "metadata": {},
   "outputs": [],
   "source": [
    "Master_table = pd.merge(cd,cp_d,on = 'customer_id')"
   ]
  },
  {
   "cell_type": "code",
   "execution_count": 49,
   "id": "f8b3ea50",
   "metadata": {},
   "outputs": [
    {
     "data": {
      "text/html": [
       "<div>\n",
       "<style scoped>\n",
       "    .dataframe tbody tr th:only-of-type {\n",
       "        vertical-align: middle;\n",
       "    }\n",
       "\n",
       "    .dataframe tbody tr th {\n",
       "        vertical-align: top;\n",
       "    }\n",
       "\n",
       "    .dataframe thead th {\n",
       "        text-align: right;\n",
       "    }\n",
       "</style>\n",
       "<table border=\"1\" class=\"dataframe\">\n",
       "  <thead>\n",
       "    <tr style=\"text-align: right;\">\n",
       "      <th></th>\n",
       "      <th>customer_id</th>\n",
       "      <th>Gender</th>\n",
       "      <th>age</th>\n",
       "      <th>driving licence present</th>\n",
       "      <th>region code</th>\n",
       "      <th>previously insured</th>\n",
       "      <th>vehicle age</th>\n",
       "      <th>vehicle damage</th>\n",
       "      <th>annual_premium</th>\n",
       "      <th>sales channel code</th>\n",
       "      <th>vintage</th>\n",
       "      <th>response</th>\n",
       "    </tr>\n",
       "  </thead>\n",
       "  <tbody>\n",
       "    <tr>\n",
       "      <th>0</th>\n",
       "      <td>1.0</td>\n",
       "      <td>Male</td>\n",
       "      <td>44.0</td>\n",
       "      <td>1.0</td>\n",
       "      <td>28.0</td>\n",
       "      <td>0.0</td>\n",
       "      <td>&gt; 2 Years</td>\n",
       "      <td>Yes</td>\n",
       "      <td>40454.0</td>\n",
       "      <td>26.0</td>\n",
       "      <td>217.0</td>\n",
       "      <td>1.0</td>\n",
       "    </tr>\n",
       "    <tr>\n",
       "      <th>1</th>\n",
       "      <td>2.0</td>\n",
       "      <td>Male</td>\n",
       "      <td>76.0</td>\n",
       "      <td>1.0</td>\n",
       "      <td>3.0</td>\n",
       "      <td>0.0</td>\n",
       "      <td>1-2 Year</td>\n",
       "      <td>No</td>\n",
       "      <td>33536.0</td>\n",
       "      <td>26.0</td>\n",
       "      <td>183.0</td>\n",
       "      <td>0.0</td>\n",
       "    </tr>\n",
       "    <tr>\n",
       "      <th>2</th>\n",
       "      <td>3.0</td>\n",
       "      <td>Male</td>\n",
       "      <td>47.0</td>\n",
       "      <td>1.0</td>\n",
       "      <td>28.0</td>\n",
       "      <td>0.0</td>\n",
       "      <td>&gt; 2 Years</td>\n",
       "      <td>Yes</td>\n",
       "      <td>38294.0</td>\n",
       "      <td>26.0</td>\n",
       "      <td>27.0</td>\n",
       "      <td>1.0</td>\n",
       "    </tr>\n",
       "    <tr>\n",
       "      <th>3</th>\n",
       "      <td>4.0</td>\n",
       "      <td>Male</td>\n",
       "      <td>21.0</td>\n",
       "      <td>1.0</td>\n",
       "      <td>11.0</td>\n",
       "      <td>1.0</td>\n",
       "      <td>&lt; 1 Year</td>\n",
       "      <td>No</td>\n",
       "      <td>28619.0</td>\n",
       "      <td>152.0</td>\n",
       "      <td>203.0</td>\n",
       "      <td>0.0</td>\n",
       "    </tr>\n",
       "    <tr>\n",
       "      <th>4</th>\n",
       "      <td>5.0</td>\n",
       "      <td>Female</td>\n",
       "      <td>29.0</td>\n",
       "      <td>1.0</td>\n",
       "      <td>41.0</td>\n",
       "      <td>1.0</td>\n",
       "      <td>&lt; 1 Year</td>\n",
       "      <td>No</td>\n",
       "      <td>27496.0</td>\n",
       "      <td>152.0</td>\n",
       "      <td>39.0</td>\n",
       "      <td>0.0</td>\n",
       "    </tr>\n",
       "    <tr>\n",
       "      <th>...</th>\n",
       "      <td>...</td>\n",
       "      <td>...</td>\n",
       "      <td>...</td>\n",
       "      <td>...</td>\n",
       "      <td>...</td>\n",
       "      <td>...</td>\n",
       "      <td>...</td>\n",
       "      <td>...</td>\n",
       "      <td>...</td>\n",
       "      <td>...</td>\n",
       "      <td>...</td>\n",
       "      <td>...</td>\n",
       "    </tr>\n",
       "    <tr>\n",
       "      <th>380331</th>\n",
       "      <td>381105.0</td>\n",
       "      <td>Male</td>\n",
       "      <td>74.0</td>\n",
       "      <td>1.0</td>\n",
       "      <td>26.0</td>\n",
       "      <td>1.0</td>\n",
       "      <td>1-2 Year</td>\n",
       "      <td>No</td>\n",
       "      <td>30170.0</td>\n",
       "      <td>26.0</td>\n",
       "      <td>88.0</td>\n",
       "      <td>0.0</td>\n",
       "    </tr>\n",
       "    <tr>\n",
       "      <th>380332</th>\n",
       "      <td>381106.0</td>\n",
       "      <td>Male</td>\n",
       "      <td>30.0</td>\n",
       "      <td>1.0</td>\n",
       "      <td>37.0</td>\n",
       "      <td>1.0</td>\n",
       "      <td>&lt; 1 Year</td>\n",
       "      <td>No</td>\n",
       "      <td>40016.0</td>\n",
       "      <td>152.0</td>\n",
       "      <td>131.0</td>\n",
       "      <td>0.0</td>\n",
       "    </tr>\n",
       "    <tr>\n",
       "      <th>380333</th>\n",
       "      <td>381107.0</td>\n",
       "      <td>Male</td>\n",
       "      <td>21.0</td>\n",
       "      <td>1.0</td>\n",
       "      <td>30.0</td>\n",
       "      <td>1.0</td>\n",
       "      <td>&lt; 1 Year</td>\n",
       "      <td>No</td>\n",
       "      <td>35118.0</td>\n",
       "      <td>160.0</td>\n",
       "      <td>161.0</td>\n",
       "      <td>0.0</td>\n",
       "    </tr>\n",
       "    <tr>\n",
       "      <th>380334</th>\n",
       "      <td>381108.0</td>\n",
       "      <td>Female</td>\n",
       "      <td>68.0</td>\n",
       "      <td>1.0</td>\n",
       "      <td>14.0</td>\n",
       "      <td>0.0</td>\n",
       "      <td>&gt; 2 Years</td>\n",
       "      <td>Yes</td>\n",
       "      <td>44617.0</td>\n",
       "      <td>124.0</td>\n",
       "      <td>74.0</td>\n",
       "      <td>0.0</td>\n",
       "    </tr>\n",
       "    <tr>\n",
       "      <th>380335</th>\n",
       "      <td>381109.0</td>\n",
       "      <td>Male</td>\n",
       "      <td>46.0</td>\n",
       "      <td>1.0</td>\n",
       "      <td>29.0</td>\n",
       "      <td>0.0</td>\n",
       "      <td>1-2 Year</td>\n",
       "      <td>No</td>\n",
       "      <td>41777.0</td>\n",
       "      <td>26.0</td>\n",
       "      <td>237.0</td>\n",
       "      <td>0.0</td>\n",
       "    </tr>\n",
       "  </tbody>\n",
       "</table>\n",
       "<p>380336 rows × 12 columns</p>\n",
       "</div>"
      ],
      "text/plain": [
       "        customer_id  Gender   age  driving licence present  region code  \\\n",
       "0               1.0    Male  44.0                      1.0         28.0   \n",
       "1               2.0    Male  76.0                      1.0          3.0   \n",
       "2               3.0    Male  47.0                      1.0         28.0   \n",
       "3               4.0    Male  21.0                      1.0         11.0   \n",
       "4               5.0  Female  29.0                      1.0         41.0   \n",
       "...             ...     ...   ...                      ...          ...   \n",
       "380331     381105.0    Male  74.0                      1.0         26.0   \n",
       "380332     381106.0    Male  30.0                      1.0         37.0   \n",
       "380333     381107.0    Male  21.0                      1.0         30.0   \n",
       "380334     381108.0  Female  68.0                      1.0         14.0   \n",
       "380335     381109.0    Male  46.0                      1.0         29.0   \n",
       "\n",
       "        previously insured vehicle age vehicle damage  annual_premium  \\\n",
       "0                      0.0   > 2 Years            Yes         40454.0   \n",
       "1                      0.0    1-2 Year             No         33536.0   \n",
       "2                      0.0   > 2 Years            Yes         38294.0   \n",
       "3                      1.0    < 1 Year             No         28619.0   \n",
       "4                      1.0    < 1 Year             No         27496.0   \n",
       "...                    ...         ...            ...             ...   \n",
       "380331                 1.0    1-2 Year             No         30170.0   \n",
       "380332                 1.0    < 1 Year             No         40016.0   \n",
       "380333                 1.0    < 1 Year             No         35118.0   \n",
       "380334                 0.0   > 2 Years            Yes         44617.0   \n",
       "380335                 0.0    1-2 Year             No         41777.0   \n",
       "\n",
       "        sales channel code  vintage  response  \n",
       "0                     26.0    217.0       1.0  \n",
       "1                     26.0    183.0       0.0  \n",
       "2                     26.0     27.0       1.0  \n",
       "3                    152.0    203.0       0.0  \n",
       "4                    152.0     39.0       0.0  \n",
       "...                    ...      ...       ...  \n",
       "380331                26.0     88.0       0.0  \n",
       "380332               152.0    131.0       0.0  \n",
       "380333               160.0    161.0       0.0  \n",
       "380334               124.0     74.0       0.0  \n",
       "380335                26.0    237.0       0.0  \n",
       "\n",
       "[380336 rows x 12 columns]"
      ]
     },
     "execution_count": 49,
     "metadata": {},
     "output_type": "execute_result"
    }
   ],
   "source": [
    "Master_table"
   ]
  },
  {
   "cell_type": "markdown",
   "id": "c00b6e28",
   "metadata": {},
   "source": [
    "# 4. Company needs some important information from the master table to make decisions for future growth.They needs following information"
   ]
  },
  {
   "cell_type": "markdown",
   "id": "f3d80ef2",
   "metadata": {},
   "source": [
    "i. Gender wise average annual premium"
   ]
  },
  {
   "cell_type": "code",
   "execution_count": 50,
   "id": "70bde09a",
   "metadata": {},
   "outputs": [],
   "source": [
    "Avg_gender = Master_table.groupby(['Gender'])['annual_premium'].mean()"
   ]
  },
  {
   "cell_type": "code",
   "execution_count": 51,
   "id": "dcc509ca",
   "metadata": {},
   "outputs": [
    {
     "data": {
      "text/plain": [
       "Gender\n",
       "Female    29273.474247\n",
       "Male      29323.099677\n",
       "Name: annual_premium, dtype: float64"
      ]
     },
     "execution_count": 51,
     "metadata": {},
     "output_type": "execute_result"
    }
   ],
   "source": [
    "Avg_gender"
   ]
  },
  {
   "cell_type": "code",
   "execution_count": 52,
   "id": "f9c473e7",
   "metadata": {},
   "outputs": [
    {
     "data": {
      "text/plain": [
       "<AxesSubplot:xlabel='Gender'>"
      ]
     },
     "execution_count": 52,
     "metadata": {},
     "output_type": "execute_result"
    },
    {
     "data": {
      "image/png": "[encoded data removed]",
      "text/plain": [
       "<Figure size 432x288 with 1 Axes>"
      ]
     },
     "metadata": {
      "needs_background": "light"
     },
     "output_type": "display_data"
    }
   ],
   "source": [
    "Avg_gender.plot(kind = 'bar')"
   ]
  },
  {
   "cell_type": "markdown",
   "id": "4ac1c10c",
   "metadata": {},
   "source": [
    "ii. Age wise average annual premium"
   ]
  },
  {
   "cell_type": "code",
   "execution_count": 53,
   "id": "5b5a1895",
   "metadata": {},
   "outputs": [],
   "source": [
    "Avg_age = Master_table.groupby(['age'])['annual_premium'].mean()"
   ]
  },
  {
   "cell_type": "code",
   "execution_count": 54,
   "id": "a4ea89c4",
   "metadata": {},
   "outputs": [
    {
     "data": {
      "text/plain": [
       "age\n",
       "20.0    26342.073517\n",
       "21.0    29751.791916\n",
       "22.0    29946.848634\n",
       "23.0    29838.344763\n",
       "24.0    30125.557096\n",
       "            ...     \n",
       "81.0    29287.910702\n",
       "82.0    36480.586199\n",
       "83.0    28995.818172\n",
       "84.0    35440.818182\n",
       "85.0    26637.454525\n",
       "Name: annual_premium, Length: 67, dtype: float64"
      ]
     },
     "execution_count": 54,
     "metadata": {},
     "output_type": "execute_result"
    }
   ],
   "source": [
    "Avg_age"
   ]
  },
  {
   "cell_type": "code",
   "execution_count": 55,
   "id": "76f9b495",
   "metadata": {},
   "outputs": [
    {
     "data": {
      "text/plain": [
       "<AxesSubplot:xlabel='age'>"
      ]
     },
     "execution_count": 55,
     "metadata": {},
     "output_type": "execute_result"
    },
    {
     "data": {
      "image/png": "[encoded data removed]",
      "text/plain": [
       "<Figure size 432x288 with 1 Axes>"
      ]
     },
     "metadata": {
      "needs_background": "light"
     },
     "output_type": "display_data"
    }
   ],
   "source": [
    "Avg_age.plot(kind = 'line' )"
   ]
  },
  {
   "cell_type": "code",
   "execution_count": 56,
   "id": "3a57ef1d",
   "metadata": {},
   "outputs": [],
   "source": [
    "Gender_count = Master_table['Gender'].value_counts()"
   ]
  },
  {
   "cell_type": "code",
   "execution_count": 57,
   "id": "f2ea7e9f",
   "metadata": {},
   "outputs": [
    {
     "data": {
      "text/plain": [
       "Male      205851\n",
       "Female    174485\n",
       "Name: Gender, dtype: int64"
      ]
     },
     "execution_count": 57,
     "metadata": {},
     "output_type": "execute_result"
    }
   ],
   "source": [
    "Gender_count"
   ]
  },
  {
   "cell_type": "markdown",
   "id": "64879864",
   "metadata": {},
   "source": [
    "No My data is not balanced with the genders"
   ]
  },
  {
   "cell_type": "code",
   "execution_count": 58,
   "id": "766da0d3",
   "metadata": {},
   "outputs": [
    {
     "data": {
      "text/plain": [
       "<AxesSubplot:>"
      ]
     },
     "execution_count": 58,
     "metadata": {},
     "output_type": "execute_result"
    },
    {
     "data": {
      "image/png": "[encoded data removed]",
      "text/plain": [
       "<Figure size 432x288 with 1 Axes>"
      ]
     },
     "metadata": {
      "needs_background": "light"
     },
     "output_type": "display_data"
    }
   ],
   "source": [
    "Gender_count.plot(kind = 'bar')"
   ]
  },
  {
   "cell_type": "markdown",
   "id": "52403a55",
   "metadata": {},
   "source": [
    "iv. Vehicle age wise average annual premium."
   ]
  },
  {
   "cell_type": "code",
   "execution_count": 59,
   "id": "e99c29d0",
   "metadata": {},
   "outputs": [],
   "source": [
    "Avg_vehicle_age = Master_table.groupby(['vehicle age'])['annual_premium'].mean()"
   ]
  },
  {
   "cell_type": "code",
   "execution_count": 60,
   "id": "16306770",
   "metadata": {},
   "outputs": [
    {
     "data": {
      "text/plain": [
       "vehicle age\n",
       "1-2 Year     29102.009839\n",
       "< 1 Year     29188.150594\n",
       "> 2 Years    32943.540830\n",
       "Name: annual_premium, dtype: float64"
      ]
     },
     "execution_count": 60,
     "metadata": {},
     "output_type": "execute_result"
    }
   ],
   "source": [
    "Avg_vehicle_age"
   ]
  },
  {
   "cell_type": "code",
   "execution_count": 61,
   "id": "6c18e3d0",
   "metadata": {},
   "outputs": [
    {
     "data": {
      "text/plain": [
       "<AxesSubplot:ylabel='annual_premium'>"
      ]
     },
     "execution_count": 61,
     "metadata": {},
     "output_type": "execute_result"
    },
    {
     "data": {
      "image/png": "[encoded data removed]",
      "text/plain": [
       "<Figure size 432x288 with 1 Axes>"
      ]
     },
     "metadata": {},
     "output_type": "display_data"
    }
   ],
   "source": [
    "Avg_vehicle_age.plot(kind = 'pie')"
   ]
  },
  {
   "cell_type": "markdown",
   "id": "daade33e",
   "metadata": {},
   "source": [
    "# 5. Is there any relation between Person Age and annual premium?"
   ]
  },
  {
   "cell_type": "code",
   "execution_count": 62,
   "id": "0e56afda",
   "metadata": {},
   "outputs": [
    {
     "data": {
      "text/plain": [
       "0.0506575892861754"
      ]
     },
     "execution_count": 62,
     "metadata": {},
     "output_type": "execute_result"
    }
   ],
   "source": [
    "Master_table['age'].corr(Master_table['annual_premium'])"
   ]
  },
  {
   "cell_type": "markdown",
   "id": "c5b6fa39",
   "metadata": {},
   "source": [
    "NO, Their is no realtionship between the person age and annual premium. It is 0.05"
   ]
  }
 ],
 "metadata": {
  "kernelspec": {
   "display_name": "Python 3",
   "language": "python",
   "name": "python3"
  },
  "language_info": {
   "codemirror_mode": {
    "name": "ipython",
    "version": 3
   },
   "file_extension": ".py",
   "mimetype": "text/x-python",
   "name": "python",
   "nbconvert_exporter": "python",
   "pygments_lexer": "ipython3",
   "version": "3.8.8"
  }
 },
 "nbformat": 4,
 "nbformat_minor": 5
}
